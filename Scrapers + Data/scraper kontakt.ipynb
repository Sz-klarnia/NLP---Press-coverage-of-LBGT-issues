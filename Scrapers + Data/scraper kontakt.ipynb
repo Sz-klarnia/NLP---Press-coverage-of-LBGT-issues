{
 "cells": [
  {
   "cell_type": "code",
   "execution_count": 2,
   "metadata": {},
   "outputs": [],
   "source": [
    "from selenium import webdriver\n",
    "from selenium.webdriver.common.keys import Keys\n",
    "import time\n",
    "import time\n",
    "from bs4 import BeautifulSoup\n",
    "import urllib.request,sys,time\n",
    "import requests\n",
    "import pandas as pd\n",
    "import re"
   ]
  },
  {
   "cell_type": "code",
   "execution_count": 3,
   "metadata": {},
   "outputs": [],
   "source": [
    "# using selenium to scroll the page\n",
    "driver = webdriver.Firefox()\n",
    "# opening page\n",
    "driver.get(\"https://magazynkontakt.pl/?s=lgbt\")\n",
    "# getting page height\n",
    "last_height = driver.execute_script(\"return document.body.scrollHeight\")\n",
    "# scrolling in a loop\n",
    "for i in range(15):\n",
    "    # scrolling\n",
    "    driver.execute_script(\"window.scrollTo(0, document.body.scrollHeight);\")\n",
    "    # waiting to load\n",
    "    time.sleep(2)\n",
    "    # finding and clicking button\n",
    "    elem = driver.find_element_by_class_name(\"block-infinite_button\")\n",
    "    elem.click()\n",
    "    # getting new page height\n",
    "    new_height = driver.execute_script(\"return document.body.scrollHeight\")\n",
    "    last_height = new_height\n"
   ]
  },
  {
   "cell_type": "code",
   "execution_count": 4,
   "metadata": {},
   "outputs": [
    {
     "name": "stdout",
     "output_type": "stream",
     "text": [
      "page processed: https://magazynkontakt.pl/charles-taylor-ewangelia-i-lgbt/\n",
      "page processed: https://magazynkontakt.pl/jestem-lgbt-jestem-czlowiekiem-spot-kampanii-przeciw-homofobii/\n",
      "page processed: https://magazynkontakt.pl/od-wladzy-po-biskupow-nie-tylko-katolickich-od-nastoletnich-aktywistow-po-donald-pl-rozgi-i-prezenty-od-redakcji-kontaktu/\n",
      "page processed: https://magazynkontakt.pl/inny-kosciol-jest-mozliwy-przeczekiwanie-wyc-przestaje-dzialac/\n",
      "page processed: https://magazynkontakt.pl/zmarl-nidal-abu-tabaq-przyjaciel-ludzi-mufti-ligi-muzulmanskiej-w-rp/\n",
      "page processed: https://magazynkontakt.pl/pulapki-ideologii-rodziny/\n",
      "page processed: https://magazynkontakt.pl/jezus-przyjaciel/\n",
      "page processed: https://magazynkontakt.pl/soundtrack-dla-lewaczki/\n",
      "page processed: https://magazynkontakt.pl/ucieczka-z-lewicowego-cyrku/\n",
      "page processed: https://magazynkontakt.pl/kiedy-panstwo-nas-nie-chroni-mojej-siostry-bede-bronic/\n",
      "page processed: https://magazynkontakt.pl/joe-biden-czlowiek-bez-nadziei/\n",
      "page processed: https://magazynkontakt.pl/wyrokiem-trybunalu-prawica-i-kosciol-sciagaja-na-siebie-kleske/\n",
      "page processed: https://magazynkontakt.pl/trudne-pozycie-co-dla-mnie-znaczy-wypowiedz-papieza/\n",
      "page processed: https://magazynkontakt.pl/korolczuk-to-nie-gender-ale-neoliberalizm-niszczy-rodzine/\n",
      "page processed: https://magazynkontakt.pl/margot-to-takze-moj-chrystus/\n",
      "page processed: https://magazynkontakt.pl/dokument-episkopatu-wywoluje-we-mnie-ksiedzu-smutek-przerazenie-i-zlosc-list-do-redakcji/\n",
      "page processed: https://magazynkontakt.pl/co-redaktor-lisiewicz-chce-wiedziec-o-anarchistach-felieton/\n",
      "page processed: https://magazynkontakt.pl/biskupom-juz-dziekujemy/\n",
      "page processed: https://magazynkontakt.pl/kotas-lesbijki-beda-ratowac-swiat/\n",
      "page processed: https://magazynkontakt.pl/oddac-polske-spoleczenstwu/\n",
      "page processed: https://magazynkontakt.pl/list-otwarty-do-wspolwyznawcow-swieckich-i-duchownych/\n",
      "page processed: https://magazynkontakt.pl/nie-chodzi-o-wasze-obrazone-uczucia-list-otwarty-do-katolikow-z-nawy-glownej/\n",
      "page processed: https://magazynkontakt.pl/tu-nie-chodzi-o-ludzi/\n",
      "page processed: https://magazynkontakt.pl/gdula-biedron-podpisalby-ustawe-podnoszaca-podatki/\n",
      "page processed: https://magazynkontakt.pl/andrzej-duda-prezydent-nie-dla-wszystkich/\n",
      "page processed: https://magazynkontakt.pl/w-okopach-po-pisu-dlaczego-trzaskowski-nie-moze-byc-soba/\n",
      "page processed: https://magazynkontakt.pl/zakonczmy-epoke-po-pis-u-moj-glos-przed-i-tura/\n",
      "page processed: https://magazynkontakt.pl/po-zabawie-w-chowanego-episkopat-wystawia-sobie-kolejne-antyswiadectwo-list-do-redakcji/\n",
      "page processed: https://magazynkontakt.pl/biedni-katolicy-patrza-na-siebie/\n",
      "page processed: https://magazynkontakt.pl/rachunek-sumienia-z-homofobii/\n",
      "page processed: https://magazynkontakt.pl/standardy-nie-wspolczucie/\n",
      "page processed: https://magazynkontakt.pl/kazik-roznosi-wszy-czyli-pr-owy-majstersztyk-pis-u/\n",
      "page processed: https://magazynkontakt.pl/inteligent-dalej-ze-smoczkiem/\n",
      "page processed: https://magazynkontakt.pl/pis-przeciw-zyciu/\n",
      "page processed: https://magazynkontakt.pl/luczewski-odrzucilismy-nauczanie-papieza/\n"
     ]
    }
   ],
   "source": [
    "# creating file, writing headers\n",
    "filename = \"kontakt.csv\"\n",
    "f=open(filename,\"w\",encoding=\"utf-8\")\n",
    "headers=\"Title,Content,Link,Date,Author\\n\"\n",
    "f.write(headers)\n",
    "\n",
    "# parsing scrolled page\n",
    "soup = BeautifulSoup(driver.page_source, \"html.parser\")\n",
    "# finding all article links\n",
    "links = soup.find_all(\"div\",attrs={\"class\":\"col col-m\"})\n",
    "\n",
    "# iterating over links\n",
    "for link in links:\n",
    "    # getting date where avaliable\n",
    "    try:\n",
    "        date = link.find(\"span\",attrs={\"class\":\"date\"}).text\n",
    "    except:\n",
    "        continue\n",
    "    # checking if year is 2020\n",
    "    if date[-4:] == \"2020\":\n",
    "        # getting title\n",
    "        title = link.find(\"h2\").text\n",
    "        # getting article url\n",
    "        url = link.find(\"a\",attrs={\"class\":\"in\"}).get(\"href\").strip()\n",
    "        # progress tracking\n",
    "        print(f\"page processed: {url}\")\n",
    "        # requesting and parsing page code\n",
    "        request = requests.get(url)\n",
    "        soup1 = BeautifulSoup(request.text, \"html.parser\")\n",
    "        # getting author\n",
    "        try:\n",
    "            author = soup1.find(\"a\",attrs={\"class\":\"imienazwisko\"}).text\n",
    "        except:\n",
    "            author = soup1.find(\"span\",attrs={\"class\":\"imienazwisko\"}).text\n",
    "        \n",
    "        # finding and saving article text\n",
    "        content_list = soup1.find_all(\"p\")\n",
    "        content = \"\"\n",
    "        for p in content_list:\n",
    "            content = content + p.text\n",
    "        content = content.strip().replace(\"\\n\",\"\")\n",
    "        content = content.replace(\"\\xa0\",\" \")\n",
    "        # writing data to file\n",
    "        f.write(title.replace(\",\",\"^\")+\",\"+content.replace(\",\",\"^\")+\",\"+url+\",\"+date.replace(\",\",\"^\")+\",\"+author.replace(\",\",\"^\")+\"\\n\")\n",
    "    \n",
    "# closing file\n",
    "f.close()"
   ]
  },
  {
   "cell_type": "code",
   "execution_count": 6,
   "metadata": {},
   "outputs": [
    {
     "data": {
      "text/plain": [
       "{'Connection': 'Keep-Alive', 'Set-Cookie': 'PHPSESSID=305899b0df24c29fdb5d5210371fc101; path=/; secure', 'Expires': 'Thu, 19 Nov 1981 08:52:00 GMT', 'Cache-Control': 'no-store, no-cache, must-revalidate', 'Pragma': 'no-cache', 'Content-Type': 'text/html; charset=UTF-8', 'Link': '<https://magazynkontakt.pl/?p=34238>; rel=shortlink', 'Transfer-Encoding': 'chunked', 'Content-Encoding': 'gzip', 'Vary': 'Accept-Encoding,User-Agent', 'Date': 'Sun, 27 Dec 2020 14:48:11 GMT', 'Server': 'LiteSpeed', 'Alt-Svc': 'quic=\":443\"; ma=2592000; v=\"43,46\", h3-Q043=\":443\"; ma=2592000, h3-Q046=\":443\"; ma=2592000, h3-Q050=\":443\"; ma=2592000, h3-25=\":443\"; ma=2592000, h3-27=\":443\"; ma=2592000'}"
      ]
     },
     "execution_count": 6,
     "metadata": {},
     "output_type": "execute_result"
    }
   ],
   "source": [
    "request.headers"
   ]
  }
 ],
 "metadata": {
  "kernelspec": {
   "display_name": "Python 3",
   "language": "python",
   "name": "python3"
  },
  "language_info": {
   "codemirror_mode": {
    "name": "ipython",
    "version": 3
   },
   "file_extension": ".py",
   "mimetype": "text/x-python",
   "name": "python",
   "nbconvert_exporter": "python",
   "pygments_lexer": "ipython3",
   "version": "3.8.3"
  }
 },
 "nbformat": 4,
 "nbformat_minor": 4
}
